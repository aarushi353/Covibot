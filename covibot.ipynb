{
  "nbformat": 4,
  "nbformat_minor": 0,
  "metadata": {
    "colab": {
      "name": "covibot.ipynb",
      "provenance": [],
      "authorship_tag": "ABX9TyMm77ny94vAuwAL0eKXXHvx",
      "include_colab_link": true
    },
    "kernelspec": {
      "name": "python3",
      "display_name": "Python 3"
    },
    "language_info": {
      "name": "python"
    }
  },
  "cells": [
    {
      "cell_type": "markdown",
      "metadata": {
        "id": "view-in-github",
        "colab_type": "text"
      },
      "source": [
        "<a href=\"https://colab.research.google.com/github/aarushi353/Covibot/blob/main/covibot.ipynb\" target=\"_parent\"><img src=\"https://colab.research.google.com/assets/colab-badge.svg\" alt=\"Open In Colab\"/></a>"
      ]
    },
    {
      "cell_type": "code",
      "execution_count": 1,
      "metadata": {
        "id": "0TJ4wq7q-HzT"
      },
      "outputs": [],
      "source": [
        "#Installing libraries\n",
        "import nltk\n",
        "import numpy as np\n",
        "import string\n",
        "import warnings\n",
        "warnings.filterwarnings(\"ignore\")"
      ]
    },
    {
      "cell_type": "code",
      "source": [
        "#Opening and Defining the corpus\n",
        "f = open('context.txt','r',errors = 'ignore', encoding = 'utf-8')\n",
        "paragraph = f.read()"
      ],
      "metadata": {
        "id": "9UUvVRUq-xqx"
      },
      "execution_count": 2,
      "outputs": []
    },
    {
      "cell_type": "code",
      "source": [
        "paragraph"
      ],
      "metadata": {
        "colab": {
          "base_uri": "https://localhost:8080/",
          "height": 145
        },
        "id": "cIVBzU8o-_ty",
        "outputId": "93ad6762-3ec9-4cad-f9ab-232825e9e04d"
      },
      "execution_count": 3,
      "outputs": [
        {
          "output_type": "execute_result",
          "data": {
            "text/plain": [
              "'COVID-19 affects different people in different ways. Most infected people will develop mild to moderate illness and recover without hospitalization.\\nMost common symptoms are fever, dry cough, tiredness. Less common symptoms are aches and pains,sore throat, diarrhoea, conjunctivitis, headache, loss of taste or smell, \\na rash on skin, or discolouration of fingers or toes. Serious symptoms includes difficulty breathing or shortness of breath, chest pain or pressure, loss of speech or movement. \\nSeek immediate medical attention if you have serious symptoms. Always call before visiting your doctor or health facility. People who have have mild symptoms and are otherwise healthy, \\nself-isolate and contact your medical provider or a COVID-19 information line for advice. On average it takes 5–6 days from when someone is infected with the virus for symptoms to show, however it can take up to 14 days. \\n\\nThe first case of COVID-19 in India was reported on 30 January 2020. As of 9 July 2020, the Ministry of Health and Family Welfare (MoHFW) has confirmed a total cases of 767,296 cases,\\n476,377 recoveries (including 1 migration) and 21,129 deaths in the country. The number of total confirmed cases breaching the 100,000 mark on 19 May. And total confirmed cases breaching the 200,000 on 3 June. \\nMost affected cities are – Mumbai, Delhi, Ahmedabad, Chennai, Pune and Kolkata. As of 24 May 2020, Lakshadweep is the only region which has not reported a single case. On 22 March, India observed a 14-hour voluntary \\npublic curfew at the instance of the prime minister Narendra Modi. It was followed by mandatory lockdowns in COVID-19 hotspots and all major cities. Further, on 24 March, the Prime Minister ordered a nationwide lockdown\\nfor 21 days. On 14 April, the PM extended the nationwide lockdown till 3 May, which was followed by two-week extensions starting 3 and 17 May with substantial relaxations. Beginning 1 June the Government has started unlocking the country (barring containment zones) in three unlock phases.\\n\\nIf you feel sick you should rest, drink plenty of fluid, and eat nutritious food, Stay in a separate room from other family members, and use a dedicated bathroom if possible, Clean and disinfect frequently touched surfaces.\\nEveryone should keep a healthy lifestyle at home, Maintain a healthy diet, sleep, stay active, and make social contact with loved ones through the phone or internet. Children need extra love and attention from adults during difficult times. \\nKeep to regular routines and schedules as much as possible. It is normal to feel sad, stressed, or confused during a crisis - Talk to people you trust, such as friends and family, can help. If you feel overwhelmed, talk to a health worker or counsellor.\\n\\n\\nTo prevent the spread of COVID-19(Corona) Clean your hands often, Use soap and water, or an alcohol-based hand rub, Maintain a safe distance from anyone who is coughing or sneezing, Wear a mask when physical distancing is not possible, \\nDon’t touch your eyes, nose or mouth, Cover your nose and mouth with your bent elbow or a tissue when you cough or sneeze. Stay home if you feel unwell, If you have a fever, cough and difficulty breathing, seek medical attention.\\nMasks can help prevent the spread of the virus from the person wearing the mask to others, Masks alone do not protect against COVID-19, and should be combined with physical distancing and hand hygiene. Follow the advice provided by your local health authority.'"
            ],
            "application/vnd.google.colaboratory.intrinsic+json": {
              "type": "string"
            }
          },
          "metadata": {},
          "execution_count": 3
        }
      ]
    },
    {
      "cell_type": "code",
      "source": [
        "#Defining greet replies\n",
        "greetings = ['Hey', 'Hello', 'Hi', 'It’s great to see you', 'Nice to see you', 'Good to see you']\n",
        "bye = ['Bye', 'Bye-Bye', 'Goodbye', 'Have a good day','Stop']\n",
        "thank_you = ['Thanks', 'Thank you', 'Thanks a bunch', 'Thanks a lot.', 'Thank you very much', 'Thanks so much', 'Thank you so much']\n",
        "thank_response = ['You\\'re welcome.' , 'No problem.', 'No worries.', ' My pleasure.' , 'It was the least I could do.', 'Glad to help.']\n"
      ],
      "metadata": {
        "id": "bbibmLk8_CS9"
      },
      "execution_count": 5,
      "outputs": []
    },
    {
      "cell_type": "code",
      "source": [
        "#Pre-processing of raw text\n",
        "nltk.download('punkt') #PunktSentenceTokenizer import\n",
        "nltk.download('wordnet') #Used to look for word definitions, synonyms, and antonyms\n",
        "\n",
        "sent_tokens = nltk.sent_tokenize(paragraph)\n",
        "word_tokens = nltk.word_tokenize(paragraph)\n",
        "\n"
      ],
      "metadata": {
        "colab": {
          "base_uri": "https://localhost:8080/"
        },
        "id": "aEqz7tGO_QoX",
        "outputId": "2583ce16-b82a-4a8a-d1e7-c124309b9a3f"
      },
      "execution_count": 6,
      "outputs": [
        {
          "output_type": "stream",
          "name": "stderr",
          "text": [
            "[nltk_data] Downloading package punkt to /root/nltk_data...\n",
            "[nltk_data]   Unzipping tokenizers/punkt.zip.\n",
            "[nltk_data] Downloading package wordnet to /root/nltk_data...\n"
          ]
        }
      ]
    },
    {
      "cell_type": "code",
      "source": [
        "sent_tokens[:1]"
      ],
      "metadata": {
        "colab": {
          "base_uri": "https://localhost:8080/"
        },
        "id": "A419a8NrBW3V",
        "outputId": "484a9a25-dbb4-4e96-aab9-435c98c89e39"
      },
      "execution_count": 7,
      "outputs": [
        {
          "output_type": "execute_result",
          "data": {
            "text/plain": [
              "['COVID-19 affects different people in different ways.']"
            ]
          },
          "metadata": {},
          "execution_count": 7
        }
      ]
    },
    {
      "cell_type": "code",
      "source": [
        "word_tokens[:7]"
      ],
      "metadata": {
        "colab": {
          "base_uri": "https://localhost:8080/"
        },
        "id": "PvBGJya8BeR2",
        "outputId": "fc93696b-d035-4fe2-c6ae-811bcc7d0d93"
      },
      "execution_count": 8,
      "outputs": [
        {
          "output_type": "execute_result",
          "data": {
            "text/plain": [
              "['COVID-19', 'affects', 'different', 'people', 'in', 'different', 'ways']"
            ]
          },
          "metadata": {},
          "execution_count": 8
        }
      ]
    },
    {
      "cell_type": "code",
      "source": [
        "#Lemmitization\n",
        "\n",
        "lemmer = nltk.stem.WordNetLemmatizer()\n",
        "def LemTokens(tokens):\n",
        "  return [lemmer.lemmatize(token) for token in tokens] #iterate through every token and lemmatize it\n",
        "\n",
        "remove_punct_dict = dict((ord(punct), None) for punct in string.punctuation)\n",
        "\n",
        "# string.punctuation has all the punctuations\n",
        "# ord(punct) convert punctuation to its ASCII value\n",
        "# dict contains {ASCII: None} for punctuation mark\n",
        "\n",
        "def Normalize(text):\n",
        "  return LemTokens(nltk.word_tokenize(text.lower().translate(remove_punct_dict)))\n",
        "\n",
        "# This will return the word to LemTokens after Word tokenize, lowering its case and removing punctuation mark\n",
        "# translate will find punctuation mark in remove_punct_dict and if found replace it with None\n"
      ],
      "metadata": {
        "id": "ZtMGr8_JBhTA"
      },
      "execution_count": 9,
      "outputs": []
    },
    {
      "cell_type": "code",
      "source": [
        "# Importing libraries for response generation\n",
        "\n",
        "from sklearn.feature_extraction.text import TfidfVectorizer   # For Tfid Vectorizer\n",
        "from sklearn.metrics.pairwise import cosine_similarity   # For cosine similarity\n"
      ],
      "metadata": {
        "id": "ly5hdc_dIa9o"
      },
      "execution_count": 10,
      "outputs": []
    },
    {
      "cell_type": "code",
      "source": [
        "# Generating responses\n",
        "\n",
        "def response(user_response):\n",
        "    robo_response = ''\n",
        "    \n",
        "    sent_tokens.append(user_response)   # Appending the Question user ask to sent_tokens to find the Tf-Idf and cosine_similarity between User query and the content.\n",
        "    TfidfVec = TfidfVectorizer(tokenizer = Normalize, stop_words='english')    #tokenizer ask about Pre-processing parameter and it will consume the Normalize() function and it will also remove StopWords\n",
        "    tfidf = TfidfVec.fit_transform(sent_tokens)\n",
        "\n",
        "    vals = cosine_similarity(tfidf[-1], tfidf)    # It will do cosine_similarity between last vectors and all the vectors because last vector contain the User query\n",
        "    idx = vals.argsort()[0][-2]     # argsort() will sort the tf_idf in ascending order. [-2] means second last index i.e. index of second highest value after sorting the cosine_similarity. Index of last element is not taken as query is added at end and it will have the cosine_similarity with itself.\n",
        "\n",
        "    flat = vals.flatten()   # [[0,...,0.89,1]] -> [0,...,0.89,1] this will make a single list of vals which had list inside a list.\n",
        "    flat.sort()\n",
        "    req_tfidf = flat[-2]  # this contains tfid value of second highest cosine similarity\n",
        "\n",
        "    if(req_tfidf == 0):    # 0 means there is no similarity between the question and answer\n",
        "        robo_response = robo_response + \"I am sorry! I don't understand you. Please rephrase you query.\"\n",
        "        return robo_response\n",
        "    \n",
        "    else:\n",
        "        robo_response = robo_response + sent_tokens[idx]    # return the sentences at index -2 as answer\n",
        "        return robo_response"
      ],
      "metadata": {
        "id": "xl543PlgInH9"
      },
      "execution_count": 11,
      "outputs": []
    },
    {
      "cell_type": "code",
      "source": [
        "# Initializing the bot\n",
        "import random\n",
        "def bot_initialize(user_msg):\n",
        "    flag=True\n",
        "    while(flag==True):\n",
        "        user_response = user_msg\n",
        "        if(user_response not in bye):\n",
        "            if(user_response == '/start'):\n",
        "                bot_resp = \"\"\"Hi! There. I am your Corona Protector. I can tell you all the Facts and Figures, Signs and Symptoms related to spread of Covid-19 in India. \\nType Bye to Exit.\"\"\" \n",
        "                return bot_resp\n",
        "            elif(user_response in thank_you):\n",
        "                bot_resp = random.choice(thank_response)\n",
        "                return bot_resp\n",
        "            elif(user_response in greetings):\n",
        "                bot_resp = random.choice(greetings) + \", What information you what related to Covid-19 in India\"\n",
        "                return bot_resp\n",
        "            else:\n",
        "                user_response = user_response.lower()\n",
        "                bot_resp = response(user_response)\n",
        "                sent_tokens.remove(user_response)   # remove user question from sent_token that we added in sent_token in response() to find the Tf-Idf and cosine_similarity\n",
        "                return bot_resp\n",
        "        else:\n",
        "            flag = False\n",
        "            bot_resp = random.choice(bye)\n",
        "            return bot_resp"
      ],
      "metadata": {
        "id": "KfN2xgIiy0pb"
      },
      "execution_count": 12,
      "outputs": []
    },
    {
      "cell_type": "code",
      "source": [
        ""
      ],
      "metadata": {
        "id": "cxofh0hCzHbm"
      },
      "execution_count": null,
      "outputs": []
    }
  ]
}